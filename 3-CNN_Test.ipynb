{
 "cells": [
  {
   "cell_type": "code",
   "execution_count": null,
   "id": "be3f80c1",
   "metadata": {},
   "outputs": [],
   "source": [
    "# Standard Libraries\n",
    "import glob\n",
    "\n",
    "# Image Processing and Computer Vision\n",
    "import cv2\n",
    "from tifffile import imread\n",
    "from random import randint\n",
    "\n",
    "# Data Visualization\n",
    "import matplotlib.pyplot as plt\n",
    "matplotlib.rcParams[\"image.interpolation\"] = None  # Set interpolation to None for matplotlib\n",
    "\n",
    "# Progress Monitoring\n",
    "from tqdm import tqdm\n",
    "\n",
    "# Deep Learning and Image Segmentation (StarDist)\n",
    "from csbdeep.utils import normalize\n",
    "from csbdeep.io import save_tiff_imagej_compatible\n",
    "from stardist import random_label_cmap, _draw_polygons, export_imagej_rois\n",
    "from stardist.models import StarDist2D\n",
    "from stardist.plot import render_label\n"
   ]
  },
  {
   "cell_type": "markdown",
   "id": "2f81031f",
   "metadata": {},
   "source": [
    "Setting Up for Image Segmentation\n",
    "\n",
    "This segment of the code is designed to prepare for image segmentation tasks. It involves initializing the environment, reading in image data, and verifying the image dimensions.\n",
    "Steps:\n",
    "\n",
    "   - Initialize Random Seed: Setting a fixed random seed for reproducibility in any random operation.\n",
    "\n",
    "   - Create Random Label Color Map: Generating a random color map, which is typically used for visualizing labeled data in segmentation tasks.\n",
    "\n",
    "   - Read Image Data: Loading TIFF images from a specified directory for segmentation. This step involves finding the image file paths and reading the images into an array.\n",
    "\n",
    "   - Check Image Size: Verifying the dimensions of the loaded images to ensure they match the expected format and size."
   ]
  },
  {
   "cell_type": "code",
   "execution_count": null,
   "id": "a0f3f33c",
   "metadata": {},
   "outputs": [],
   "source": [
    "# Set a fixed random seed for reproducibility\n",
    "np.random.seed(42)\n",
    "\n",
    "# Generate a random label color map for visualization\n",
    "lbl_cmap = random_label_cmap()\n",
    "\n",
    "# Read TIFF images from the specified directory\n",
    "X = sorted(glob('path/to/your/images/*.tif'))\n",
    "X = list(map(imread, X))  # Use imread to load each image\n",
    "\n",
    "# Check the shape of the first image in the dataset\n",
    "X[0].shape"
   ]
  },
  {
   "cell_type": "markdown",
   "id": "47ed4ffc",
   "metadata": {},
   "source": [
    "Normalizing Image Data for Segmentation\n",
    "\n",
    "This section of the code is focused on preparing the image data for segmentation by normalizing the pixel intensities. Normalization is a crucial step in image processing as it standardizes the range of pixel values across the dataset.\n",
    "Steps:\n",
    "\n",
    "   - Determine Number of Channels: The number of channels in the images is identified. If the image is grayscale (2D), it has one channel. If it's color (3D), the number of channels corresponds to the third dimension of the array.\n",
    "\n",
    "   - Set Normalization Axis: Define the axes along which normalization will occur. This can be set to normalize channels independently or jointly.\n",
    "\n",
    "   - Normalization Process: Apply normalization to each image in the dataset. The normalization scales the pixel values to a specified percentile range, enhancing the model's ability to learn from the data."
   ]
  },
  {
   "cell_type": "code",
   "execution_count": null,
   "id": "faaee15d",
   "metadata": {},
   "outputs": [],
   "source": [
    "# Determine the number of channels in the images\n",
    "n_channel = 1 if X[0].ndim == 2 else X[0].shape[-1]\n",
    "\n",
    "# Define the axis for normalization (independently or jointly)\n",
    "axis_norm = (0, 1)  # Normalize channels independently\n",
    "# axis_norm = (0, 1, 2) # Uncomment to normalize channels jointly\n",
    "\n",
    "# Print the normalization method based on the number of channels\n",
    "if n_channel > 1:\n",
    "    print(\"Normalizing image channels %s.\" % ('jointly' if axis_norm is None or 2 in axis_norm else 'independently'))\n",
    "\n",
    "# Normalize each image in the dataset\n",
    "X = [normalize(x, 1, 99.8, axis=axis_norm) for x in tqdm(X)]"
   ]
  },
  {
   "cell_type": "markdown",
   "id": "9d8a03b3",
   "metadata": {},
   "source": [
    "Visualizing Normalized Images\n",
    "\n",
    "This code block is designed for visualizing the normalized images from the dataset. It arranges the images in a grid layout, making it easy to visually inspect each image and its normalization effect.\n",
    "Steps:\n",
    "\n",
    "   - Create Plotting Grid: A grid of subplots is created using plt.subplots. The grid size is 7 rows by 8 columns, accommodating 56 images.\n",
    "\n",
    "   - Plot Images: Each image is displayed in one of the subplot axes. The images are shown in grayscale, and if an image has multiple channels, only the first channel is displayed.\n",
    "\n",
    "   - Set Titles and Format: Each subplot is titled with its corresponding index in the dataset. The axes are turned off for a cleaner look, and the layout is adjusted for better spacing between images."
   ]
  },
  {
   "cell_type": "code",
   "execution_count": null,
   "id": "7861be9a",
   "metadata": {},
   "outputs": [],
   "source": [
    "# Create a grid of subplots\n",
    "fig, ax = plt.subplots(7, 8, figsize=(16, 16))\n",
    "\n",
    "# Loop through the images and plot each one\n",
    "for i, (a, x) in enumerate(zip(ax.flat, X)):\n",
    "    # Display the image in grayscale\n",
    "    a.imshow(x if x.ndim == 2 else x[..., 0], cmap='gray')\n",
    "    \n",
    "    # Set the title of each subplot as the image index\n",
    "    a.set_title(i)\n",
    "\n",
    "# Turn off the axes and adjust layout\n",
    "for a in ax.flat:\n",
    "    a.axis('off')\n",
    "plt.tight_layout()"
   ]
  },
  {
   "cell_type": "markdown",
   "id": "46501daa",
   "metadata": {},
   "source": [
    "Loading a Pre-Trained StarDist 2D Model\n",
    "\n",
    "This section of the code focuses on loading a pre-trained StarDist 2D model. The StarDist model is specifically designed for image segmentation tasks, particularly for star-convex object segmentation.\n",
    "Steps:\n",
    "\n",
    "   - Model Instantiation: The StarDist2D model is instantiated by specifying the model name and the directory where the model is saved.\n",
    "\n",
    "   - Model Parameters:\n",
    "       - None indicates that a new configuration is not being set during this instantiation.\n",
    "       - name is the name of the pre-trained model to be loaded.\n",
    "       - basedir is the directory path where the model files are located."
   ]
  },
  {
   "cell_type": "code",
   "execution_count": null,
   "id": "3ac934c3",
   "metadata": {
    "scrolled": true
   },
   "outputs": [],
   "source": [
    "model = StarDist2D(None, name='model name', basedir='path/to/your/model/directory')"
   ]
  },
  {
   "cell_type": "markdown",
   "id": "f68a8048",
   "metadata": {},
   "source": [
    "Displaying Segmentation Results on a Random Image\n",
    "\n",
    "This code block demonstrates how to apply the trained StarDist 2D model to a randomly selected image from the dataset and visualize the segmentation results.\n",
    "Steps:\n",
    "\n",
    "   - Select a Random Image:\n",
    "        A random index is generated to select an image from the dataset.\n",
    "        The selected image is then loaded for segmentation.\n",
    "\n",
    "   - Segmentation:\n",
    "        The predict_instances method of the StarDist 2D model is used to perform segmentation on the selected image.\n",
    "        This method returns the segmented labels and additional details about the segmentation.\n",
    "\n",
    "   - Visualization:\n",
    "        The original image and the segmentation results (labels) are visualized together.\n",
    "        The segmentation labels are overlaid on the original image with some transparency (alpha=0.5) for better visibility."
   ]
  },
  {
   "cell_type": "code",
   "execution_count": null,
   "id": "7e94497f",
   "metadata": {},
   "outputs": [],
   "source": [
    "# Select a random image from the dataset\n",
    "img_num = randint(9, len(X)-1)\n",
    "img = X[img_num]\n",
    "\n",
    "# Perform segmentation using the StarDist 2D model\n",
    "labels, details = model.predict_instances(img)\n",
    "\n",
    "# Visualize the original image and the segmentation results\n",
    "plt.figure(figsize=(8, 8))\n",
    "plt.imshow(img if img.ndim == 2 else img[..., 0], clim=(0, 1), cmap='gray')\n",
    "plt.imshow(labels, cmap=lbl_cmap, alpha=0.5)\n",
    "plt.axis('off')"
   ]
  },
  {
   "cell_type": "markdown",
   "id": "d9161002",
   "metadata": {},
   "source": [
    "Visualizing Segmentation Results with Detailed Annotations\n",
    "\n",
    "The example function is designed to visualize the segmentation results of a specific image using the trained StarDist 2D model. It provides a detailed view by displaying both the original image with annotated segmentation polygons and the segmented image with labeled regions.\n",
    "Functionality:\n",
    "\n",
    "   - Normalize and Segment Image:\n",
    "        The selected image is normalized, and then segmentation is performed using the predict_instances method.\n",
    "\n",
    "   - Visualization Setup:\n",
    "        Two subplots are created: one for the annotated original image and another for the image with segmentation labels overlaid.\n",
    "\n",
    "   - Annotate with Segmentation Polygons:\n",
    "        The _draw_polygons function from StarDist is used to draw segmentation polygons, illustrating how the model perceives and segments different objects in the image.\n",
    "\n",
    "   - Overlay Segmentation Labels:\n",
    "        The segmentation labels are overlaid on the original image in the second subplot, providing a clear view of the segmentation output.\n",
    "\n",
    "   - Display Function:\n",
    "        The function example can be called with the model and an image index to visualize the segmentation results for that specific image."
   ]
  },
  {
   "cell_type": "code",
   "execution_count": null,
   "id": "b49b1e29",
   "metadata": {},
   "outputs": [],
   "source": [
    "def example(model, i, show_dist=True):\n",
    "    # Normalize and segment the image\n",
    "    img = normalize(X[i], 1, 99.8, axis=axis_norm)\n",
    "    labels, details = model.predict_instances(img)\n",
    "\n",
    "    # Set up the figure for visualization\n",
    "    plt.figure(figsize=(13, 10))\n",
    "    img_show = img if img.ndim == 2 else img[..., 0]\n",
    "\n",
    "    # Draw segmentation polygons on the first subplot\n",
    "    plt.subplot(121)\n",
    "    plt.imshow(img_show, cmap='gray')\n",
    "    plt.axis('off')\n",
    "    a = plt.axis()\n",
    "    coord, points, prob = details['coord'], details['points'], details['prob']\n",
    "    _draw_polygons(coord, points, prob, show_dist=show_dist)\n",
    "    plt.axis(a)\n",
    "\n",
    "    # Show the image with segmentation labels on the second subplot\n",
    "    plt.subplot(122)\n",
    "    plt.imshow(img_show, cmap='gray')\n",
    "    plt.axis('off')\n",
    "    plt.imshow(labels, cmap=lbl_cmap, alpha=0.5)\n",
    "    plt.tight_layout()\n",
    "    plt.show()\n",
    "\n",
    "# Visualize segmentation results for a specific image\n",
    "example(model, 16)"
   ]
  },
  {
   "cell_type": "markdown",
   "id": "a71daaed",
   "metadata": {},
   "source": [
    "Segmenting and Visualizing an External Image\n",
    "\n",
    "This code demonstrates how to load an external image, preprocess it for segmentation, apply the trained StarDist 2D model to segment the image, and then visualize both the original and segmented images.\n",
    "Steps:\n",
    "\n",
    "   - Load External Image:\n",
    "        An image is loaded from a specified path using cv2.imread.\n",
    "        The image is converted to grayscale, which is a common preprocessing step in segmentation tasks.\n",
    "\n",
    "   - Segmentation:\n",
    "        The StarDist 2D model is used to segment the preprocessed image. The segmented output and additional details are captured.\n",
    "\n",
    "   - Visualization:\n",
    "        The original and segmented images are visualized side by side for comparison.\n",
    "        The render_label function from StarDist is used to overlay the segmentation results on the original image."
   ]
  },
  {
   "cell_type": "code",
   "execution_count": null,
   "id": "0c6963df",
   "metadata": {},
   "outputs": [],
   "source": [
    "# Load and preprocess the image\n",
    "my_img = cv2.imread(\"path/to/your/image.TIFF\")\n",
    "my_img = cv2.cvtColor(my_img, cv2.COLOR_BGR2GRAY)\n",
    "\n",
    "# Normalize the image (assuming normalization is required)\n",
    "my_img_norm = normalize(my_img, 1, 99.8, axis=axis_norm)\n",
    "\n",
    "# Perform segmentation\n",
    "segmented_img, details_img = model.predict_instances(my_img_norm, verbose=True)"
   ]
  },
  {
   "cell_type": "code",
   "execution_count": null,
   "id": "e38598f9",
   "metadata": {},
   "outputs": [],
   "source": [
    "# Set up the figure for visualization\n",
    "plt.rcParams[\"figure.figsize\"] = (50, 50)\n",
    "\n",
    "# Visualize the original image\n",
    "plt.subplot(1, 2, 1)\n",
    "plt.imshow(my_img_norm, cmap=\"gray\")\n",
    "plt.axis(\"off\")\n",
    "plt.title(\"Input Image\")\n",
    "\n",
    "# Visualize the segmented image\n",
    "plt.subplot(1, 2, 2)\n",
    "plt.imshow(render_label(segmented_img, img=my_img_norm))\n",
    "plt.axis(\"off\")\n",
    "plt.title(\"Prediction\")\n",
    "plt.show()"
   ]
  },
  {
   "cell_type": "code",
   "execution_count": null,
   "id": "3ce59ae4",
   "metadata": {},
   "outputs": [],
   "source": []
  }
 ],
 "metadata": {
  "kernelspec": {
   "display_name": "Python 3 (ipykernel)",
   "language": "python",
   "name": "python3"
  },
  "language_info": {
   "codemirror_mode": {
    "name": "ipython",
    "version": 3
   },
   "file_extension": ".py",
   "mimetype": "text/x-python",
   "name": "python",
   "nbconvert_exporter": "python",
   "pygments_lexer": "ipython3",
   "version": "3.9.13"
  }
 },
 "nbformat": 4,
 "nbformat_minor": 5
}
